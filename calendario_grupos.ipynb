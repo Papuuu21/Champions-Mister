{
 "cells": [
  {
   "cell_type": "code",
   "execution_count": 1,
   "metadata": {},
   "outputs": [],
   "source": [
    "import pandas as pd\n",
    "import os\n",
    "from utils.generar_enfrent import generar_enfrentamientos\n",
    "from utils.vuelta_grupos import vuelta_gr\n",
    "from utils.df_enfrentamientos import df_ida_o_vuelta\n",
    "from utils.enfrentamientos_sinVS import df_partidos\n",
    "from utils.partidos_jornadas import partidos_jornadas\n",
    "\n",
    "df_grupos = pd.read_excel('sorteo_grupos.xlsx')\n",
    "grupo_A = list(df_grupos['Grupo A'])\n",
    "grupo_B = list(df_grupos['Grupo B'])\n",
    "\n",
    "# Ruta a la carpeta 'data'\n",
    "carpeta = 'data'\n",
    "\n",
    "# Verificar si la carpeta existe, y si no, crearla\n",
    "if not os.path.exists(carpeta):\n",
    "    os.makedirs(carpeta)"
   ]
  },
  {
   "cell_type": "markdown",
   "metadata": {},
   "source": [
    "### **GRUPO A**"
   ]
  },
  {
   "cell_type": "code",
   "execution_count": 2,
   "metadata": {},
   "outputs": [],
   "source": [
    "\n",
    "#* GRUPO A:\n",
    "ida_grA = generar_enfrentamientos(grupo_A) #* Generar partidos de ida\n",
    "vuelta_grA = vuelta_gr(ida_grA) #* Generar partidos de vuelta\n",
    "df_ida_grA = df_ida_o_vuelta(ida_grA)  #* Generar DF de los partidos de ida\n",
    "df_vuelta_grA = df_ida_o_vuelta(vuelta_grA, 6) #* El 6 indica el inicio de la jornada de los partidos de vuelta\n",
    "idx_grA = 'GRUPO A'\n",
    "calendario_grA = pd.concat([df_ida_grA, df_vuelta_grA], axis = 1) #* Crear dataframe con todos los partidos de ida y vuelta gr1\n",
    "calendario_grA['GRUPO'] = idx_grA\n",
    "calendario_grA.set_index('GRUPO', drop=True, append=False, inplace=True) #* Cambiar el indice del DF para distinguir los grupos al juntarlos\n",
    "#calendario_grA #* Usar para VISUALIZAR LOS PARTIDOS DE IDA Y VUELTA DEL GRUPO 1\n",
    "\n",
    "#* GRUPO B:\n",
    "ida_grB = generar_enfrentamientos(grupo_B) #* Generar partidos de ida\n",
    "vuelta_grB = vuelta_gr(ida_grB) #* Generar partidos de vuelta\n",
    "df_ida_grB = df_ida_o_vuelta(ida_grB)  #* Generar DF de los partidos de ida\n",
    "df_vuelta_grB = df_ida_o_vuelta(vuelta_grB, 6) #* El 6 indica el inicio de la jornada de los partidos de vuelta\n",
    "idx_grB = 'GRUPO B'\n",
    "calendario_grB = pd.concat([df_ida_grB, df_vuelta_grB], axis = 1) #* Crear dataframe con todos los partidos de ida y vuelta gr2\n",
    "calendario_grB['GRUPO'] = idx_grB\n",
    "calendario_grB.set_index('GRUPO', drop=True, append=False, inplace=True) #* Cambiar el indice del DF para distinguir los grupos al juntarlos\n",
    "#calendario_grB #* Usar para VISUALIZAR LOS PARTIDOS DE IDA Y VUELTA DEL GRUPO 2"
   ]
  },
  {
   "cell_type": "markdown",
   "metadata": {},
   "source": [
    "### **CALENDARIOS**"
   ]
  },
  {
   "cell_type": "code",
   "execution_count": 3,
   "metadata": {},
   "outputs": [],
   "source": [
    "calendario_grupos = pd.concat([calendario_grA, calendario_grB], axis = 0)"
   ]
  },
  {
   "cell_type": "code",
   "execution_count": 11,
   "metadata": {},
   "outputs": [],
   "source": [
    "calendario_grupos\n",
    "# Guardar el DataFrame en un archivo Excel en la carpeta 'data'\n",
    "ruta_archivo = os.path.join(carpeta, 'calendario_grupos.xlsx')\n",
    "calendario_grupos.to_excel(ruta_archivo, index=False)"
   ]
  },
  {
   "cell_type": "markdown",
   "metadata": {},
   "source": [
    "# JORNADA 1"
   ]
  },
  {
   "cell_type": "code",
   "execution_count": 6,
   "metadata": {},
   "outputs": [],
   "source": [
    "#* PARTIDOS DE LA JORNADA 1:\n",
    "ida_gA = df_partidos(ida_grA)\n",
    "ida_gB = df_partidos(ida_grB)\n",
    "grA_jor1 = partidos_jornadas(ida_gA)\n",
    "grB_jor1 = partidos_jornadas(ida_gB)\n",
    "vacio = pd.DataFrame()\n",
    "vacio['jornada'] = ['JOR. 1'] * 3\n",
    "df_jornada_actual  = pd.concat([grA_jor1, vacio, grB_jor1], axis = 1)"
   ]
  },
  {
   "cell_type": "code",
   "execution_count": 12,
   "metadata": {},
   "outputs": [],
   "source": [
    "df_jornada_actual\n",
    "\n",
    "# Guardar el DataFrame en un archivo Excel en la carpeta 'data'\n",
    "ruta_archivo = os.path.join(carpeta, 'jornada_1.xlsx')\n",
    "df_jornada_actual.to_excel(ruta_archivo, index=False)"
   ]
  }
 ],
 "metadata": {
  "kernelspec": {
   "display_name": "venv",
   "language": "python",
   "name": "python3"
  },
  "language_info": {
   "codemirror_mode": {
    "name": "ipython",
    "version": 3
   },
   "file_extension": ".py",
   "mimetype": "text/x-python",
   "name": "python",
   "nbconvert_exporter": "python",
   "pygments_lexer": "ipython3",
   "version": "3.12.3"
  }
 },
 "nbformat": 4,
 "nbformat_minor": 2
}
