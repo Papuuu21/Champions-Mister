{
 "cells": [
  {
   "cell_type": "code",
   "execution_count": 31,
   "metadata": {},
   "outputs": [],
   "source": [
    "import pandas as pd\n",
    "import os\n",
    "from utils.generar_enfrent import generar_enfrentamientos\n",
    "from utils.vuelta_grupos import vuelta_gr\n",
    "from utils.df_enfrentamientos import df_ida_o_vuelta\n",
    "from utils.enfrentamientos_sinVS import df_partidos\n",
    "#from utils.partidos_jornadas import partidos_jornadas\n"
   ]
  },
  {
   "cell_type": "code",
   "execution_count": 32,
   "metadata": {},
   "outputs": [],
   "source": [
    "df_grupos = pd.read_excel('sorteo_grupos.xlsx')\n",
    "grupo_A = list(df_grupos['Grupo A'])\n",
    "grupo_B = list(df_grupos['Grupo B'])"
   ]
  },
  {
   "cell_type": "code",
   "execution_count": 60,
   "metadata": {},
   "outputs": [],
   "source": [
    " #* Ruta a la carpeta 'data'\n",
    "carpeta = 'data'"
   ]
  },
  {
   "cell_type": "code",
   "execution_count": 61,
   "metadata": {},
   "outputs": [],
   "source": [
    " #* Verificar si la carpeta existe, y si no, crearla\n",
    "if not os.path.exists(carpeta):\n",
    "    os.makedirs(carpeta)"
   ]
  },
  {
   "cell_type": "markdown",
   "metadata": {},
   "source": [
    "### **GRUPO A**"
   ]
  },
  {
   "cell_type": "code",
   "execution_count": 9,
   "metadata": {},
   "outputs": [],
   "source": [
    " #* GRUPO A:\n",
    "ida_grA = generar_enfrentamientos(grupo_A) #* Generar partidos de ida\n",
    "vuelta_grA = vuelta_gr(ida_grA) #* Generar partidos de vuelta\n",
    "df_ida_grA = df_ida_o_vuelta(ida_grA)  #* Generar DF de los partidos de ida\n",
    "df_vuelta_grA = df_ida_o_vuelta(vuelta_grA, 6) #* El 6 indica el inicio de la jornada de los partidos de vuelta\n",
    "idx_grA = 'GRUPO A'\n",
    "calendario_grA = pd.concat([df_ida_grA, df_vuelta_grA], axis = 1) #* Crear dataframe con todos los partidos de ida y vuelta gr1\n",
    "calendario_grA['GRUPO'] = idx_grA\n",
    "calendario_grA.set_index('GRUPO', drop=True, append=False, inplace=True) #* Cambiar el indice del DF para distinguir los grupos al juntarlos\n",
    "#calendario_grA #* Usar para VISUALIZAR LOS PARTIDOS DE IDA Y VUELTA DEL GRUPO 1\n",
    "\n",
    "#* GRUPO B:\n",
    "ida_grB = generar_enfrentamientos(grupo_B) #* Generar partidos de ida\n",
    "vuelta_grB = vuelta_gr(ida_grB) #* Generar partidos de vuelta\n",
    "df_ida_grB = df_ida_o_vuelta(ida_grB)  #* Generar DF de los partidos de ida\n",
    "df_vuelta_grB = df_ida_o_vuelta(vuelta_grB, 6) #* El 6 indica el inicio de la jornada de los partidos de vuelta\n",
    "idx_grB = 'GRUPO B'\n",
    "calendario_grB = pd.concat([df_ida_grB, df_vuelta_grB], axis = 1) #* Crear dataframe con todos los partidos de ida y vuelta gr2\n",
    "calendario_grB['GRUPO'] = idx_grB\n",
    "calendario_grB.set_index('GRUPO', drop=True, append=False, inplace=True) #* Cambiar el indice del DF para distinguir los grupos al juntarlos\n",
    "#calendario_grB #* Usar para VISUALIZAR LOS PARTIDOS DE IDA Y VUELTA DEL GRUPO 2"
   ]
  },
  {
   "cell_type": "markdown",
   "metadata": {},
   "source": [
    "### **CALENDARIOS**"
   ]
  },
  {
   "cell_type": "code",
   "execution_count": 10,
   "metadata": {},
   "outputs": [],
   "source": [
    "calendario_grupos = pd.concat([calendario_grA, calendario_grB], axis = 0)\n",
    "calendario_grupos"
   ]
  },
  {
   "cell_type": "code",
   "execution_count": 11,
   "metadata": {},
   "outputs": [],
   "source": [
    "\n",
    "#* Guardar el DataFrame en un archivo Excel en la carpeta 'data'\n",
    "#ruta_archivo = os.path.join(carpeta, 'calendario_grupos.xlsx')\n",
    "#calendario_grupos.to_excel(ruta_archivo, index=False)"
   ]
  },
  {
   "cell_type": "markdown",
   "metadata": {},
   "source": [
    "# JORNADAS DE IDA"
   ]
  },
  {
   "cell_type": "code",
   "execution_count": 56,
   "metadata": {},
   "outputs": [],
   "source": [
    "from utils.descomp_tupla_columnas import descomponer_tupla\n",
    "\n",
    "def partidos_jornadas(df_partidos, num_jornada, col_local, col_visitante, col_rtdo_local, col_rtdo_visitante):\n",
    "    df_partidos_jornada = pd.DataFrame()\n",
    "    #* Aplicando la función a la columna 'datos' y creando nuevas columnas\n",
    "    df_partidos_jornada[[col_local, col_visitante]] = df_partidos[f'Jornada {num_jornada}'].apply(descomponer_tupla) #* Usamos la función apply() para aplicar una función a una columna de un dataframe\n",
    "    df_partidos_jornada[col_rtdo_visitante] = 0\n",
    "    df_partidos_jornada.insert(0, col_rtdo_local, 0)\n",
    "    \n",
    "    return df_partidos_jornada"
   ]
  },
  {
   "cell_type": "code",
   "execution_count": 33,
   "metadata": {},
   "outputs": [],
   "source": [
    " #! JORNADAS DE IFA SIN FORMATO PARA GENERAR  CADA JORNADA\n",
    "ida_gA = df_partidos(ida_grA)\n",
    "ida_gB = df_partidos(ida_grB)"
   ]
  },
  {
   "cell_type": "markdown",
   "metadata": {},
   "source": [
    "### JORNADA 1"
   ]
  },
  {
   "cell_type": "code",
   "execution_count": 59,
   "metadata": {},
   "outputs": [
    {
     "data": {
      "text/html": [
       "<div>\n",
       "<style scoped>\n",
       "    .dataframe tbody tr th:only-of-type {\n",
       "        vertical-align: middle;\n",
       "    }\n",
       "\n",
       "    .dataframe tbody tr th {\n",
       "        vertical-align: top;\n",
       "    }\n",
       "\n",
       "    .dataframe thead th {\n",
       "        text-align: right;\n",
       "    }\n",
       "</style>\n",
       "<table border=\"1\" class=\"dataframe\">\n",
       "  <thead>\n",
       "    <tr style=\"text-align: right;\">\n",
       "      <th></th>\n",
       "      <th>RTDO_L</th>\n",
       "      <th>LOCAL</th>\n",
       "      <th>VISITANTE</th>\n",
       "      <th>RTDO_VISITANTE</th>\n",
       "      <th>jornada</th>\n",
       "      <th>RTDO_L.1</th>\n",
       "      <th>LOCAL.1</th>\n",
       "      <th>VISITANTE.1</th>\n",
       "      <th>RTDO_V.1</th>\n",
       "    </tr>\n",
       "  </thead>\n",
       "  <tbody>\n",
       "    <tr>\n",
       "      <th>0</th>\n",
       "      <td>0</td>\n",
       "      <td>Palop</td>\n",
       "      <td>Lope</td>\n",
       "      <td>0</td>\n",
       "      <td>JOR. 1</td>\n",
       "      <td>0</td>\n",
       "      <td>Diego</td>\n",
       "      <td>Coquina</td>\n",
       "      <td>0</td>\n",
       "    </tr>\n",
       "    <tr>\n",
       "      <th>1</th>\n",
       "      <td>0</td>\n",
       "      <td>Kero</td>\n",
       "      <td>Fale</td>\n",
       "      <td>0</td>\n",
       "      <td>JOR. 1</td>\n",
       "      <td>0</td>\n",
       "      <td>Kike</td>\n",
       "      <td>Armada</td>\n",
       "      <td>0</td>\n",
       "    </tr>\n",
       "    <tr>\n",
       "      <th>2</th>\n",
       "      <td>0</td>\n",
       "      <td>Tony</td>\n",
       "      <td>Ruso</td>\n",
       "      <td>0</td>\n",
       "      <td>JOR. 1</td>\n",
       "      <td>0</td>\n",
       "      <td>Papu</td>\n",
       "      <td>Gonzo</td>\n",
       "      <td>0</td>\n",
       "    </tr>\n",
       "  </tbody>\n",
       "</table>\n",
       "</div>"
      ],
      "text/plain": [
       "   RTDO_L  LOCAL VISITANTE  RTDO_VISITANTE jornada  RTDO_L.1 LOCAL.1  \\\n",
       "0       0  Palop      Lope               0  JOR. 1         0   Diego   \n",
       "1       0   Kero      Fale               0  JOR. 1         0    Kike   \n",
       "2       0   Tony      Ruso               0  JOR. 1         0    Papu   \n",
       "\n",
       "  VISITANTE.1  RTDO_V.1  \n",
       "0     Coquina         0  \n",
       "1      Armada         0  \n",
       "2       Gonzo         0  "
      ]
     },
     "execution_count": 59,
     "metadata": {},
     "output_type": "execute_result"
    }
   ],
   "source": [
    " #! PARTIDOS DE LA JORNADA 1:\n",
    "grA_jor1 = partidos_jornadas(ida_gA, 1, 'LOCAL', 'VISITANTE', 'RTDO_L', 'RTDO_VISITANTE')\n",
    "grB_jor1 = partidos_jornadas(ida_gB, 1, 'LOCAL.1', 'VISITANTE.1', 'RTDO_L.1', 'RTDO_V.1')\n",
    "vacio = pd.DataFrame()\n",
    "vacio['jornada'] = ['JOR. 1'] * 3\n",
    "df_jornada_actual  = pd.concat([grA_jor1, vacio, grB_jor1], axis = 1)\n",
    "df_jornada_actual"
   ]
  },
  {
   "cell_type": "code",
   "execution_count": 12,
   "metadata": {},
   "outputs": [],
   "source": [
    "df_jornada_actual\n",
    "# Guardar el DataFrame en un archivo Excel en la carpeta 'data'\n",
    "#ruta_archivo = os.path.join(carpeta, 'jornada_1_inicial.xlsx')\n",
    "#df_jornada_actual.to_excel(ruta_archivo, index=False)"
   ]
  },
  {
   "cell_type": "markdown",
   "metadata": {},
   "source": [
    "### JORNADA 2\n"
   ]
  },
  {
   "cell_type": "code",
   "execution_count": 64,
   "metadata": {},
   "outputs": [
    {
     "data": {
      "text/html": [
       "<div>\n",
       "<style scoped>\n",
       "    .dataframe tbody tr th:only-of-type {\n",
       "        vertical-align: middle;\n",
       "    }\n",
       "\n",
       "    .dataframe tbody tr th {\n",
       "        vertical-align: top;\n",
       "    }\n",
       "\n",
       "    .dataframe thead th {\n",
       "        text-align: right;\n",
       "    }\n",
       "</style>\n",
       "<table border=\"1\" class=\"dataframe\">\n",
       "  <thead>\n",
       "    <tr style=\"text-align: right;\">\n",
       "      <th></th>\n",
       "      <th>RTDO_L</th>\n",
       "      <th>LOCAL</th>\n",
       "      <th>VISITANTE</th>\n",
       "      <th>RTDO_VISITANTE</th>\n",
       "      <th>Jornada</th>\n",
       "      <th>RTDO_L.1</th>\n",
       "      <th>LOCAL.1</th>\n",
       "      <th>VISITANTE.1</th>\n",
       "      <th>RTDO_V.1</th>\n",
       "    </tr>\n",
       "  </thead>\n",
       "  <tbody>\n",
       "    <tr>\n",
       "      <th>0</th>\n",
       "      <td>0</td>\n",
       "      <td>Palop</td>\n",
       "      <td>Fale</td>\n",
       "      <td>0</td>\n",
       "      <td>JOR. 2</td>\n",
       "      <td>0</td>\n",
       "      <td>Diego</td>\n",
       "      <td>Armada</td>\n",
       "      <td>0</td>\n",
       "    </tr>\n",
       "    <tr>\n",
       "      <th>1</th>\n",
       "      <td>0</td>\n",
       "      <td>Lope</td>\n",
       "      <td>Ruso</td>\n",
       "      <td>0</td>\n",
       "      <td>JOR. 2</td>\n",
       "      <td>0</td>\n",
       "      <td>Coquina</td>\n",
       "      <td>Gonzo</td>\n",
       "      <td>0</td>\n",
       "    </tr>\n",
       "    <tr>\n",
       "      <th>2</th>\n",
       "      <td>0</td>\n",
       "      <td>Kero</td>\n",
       "      <td>Tony</td>\n",
       "      <td>0</td>\n",
       "      <td>JOR. 2</td>\n",
       "      <td>0</td>\n",
       "      <td>Kike</td>\n",
       "      <td>Papu</td>\n",
       "      <td>0</td>\n",
       "    </tr>\n",
       "  </tbody>\n",
       "</table>\n",
       "</div>"
      ],
      "text/plain": [
       "   RTDO_L  LOCAL VISITANTE  RTDO_VISITANTE Jornada  RTDO_L.1  LOCAL.1  \\\n",
       "0       0  Palop      Fale               0  JOR. 2         0    Diego   \n",
       "1       0   Lope      Ruso               0  JOR. 2         0  Coquina   \n",
       "2       0   Kero      Tony               0  JOR. 2         0     Kike   \n",
       "\n",
       "  VISITANTE.1  RTDO_V.1  \n",
       "0      Armada         0  \n",
       "1       Gonzo         0  \n",
       "2        Papu         0  "
      ]
     },
     "execution_count": 64,
     "metadata": {},
     "output_type": "execute_result"
    }
   ],
   "source": [
    " #! PARTIDOS DE LA JORNADA 2:\n",
    "j2_gA = ida_gA\n",
    "j2_gB = ida_gB['Jornada 2']\n",
    "grA_jor2 = partidos_jornadas(ida_gA, 2, 'LOCAL', 'VISITANTE', 'RTDO_L', 'RTDO_VISITANTE')\n",
    "grB_jor2 = partidos_jornadas(ida_gB, 2, 'LOCAL.1', 'VISITANTE.1', 'RTDO_L.1', 'RTDO_V.1')\n",
    "vacio = pd.DataFrame()\n",
    "vacio['Jornada'] = ['JOR. 2'] * 3\n",
    "df_jornada_actual2  = pd.concat([grA_jor2, vacio, grB_jor2], axis = 1)\n",
    "df_jornada_actual2"
   ]
  },
  {
   "cell_type": "code",
   "execution_count": 65,
   "metadata": {},
   "outputs": [],
   "source": [
    "ruta_archivo = os.path.join(carpeta, 'jornada_2_inicial.xlsx')\n",
    "df_jornada_actual2.to_excel(ruta_archivo, index=False)"
   ]
  }
 ],
 "metadata": {
  "kernelspec": {
   "display_name": "venv",
   "language": "python",
   "name": "python3"
  },
  "language_info": {
   "codemirror_mode": {
    "name": "ipython",
    "version": 3
   },
   "file_extension": ".py",
   "mimetype": "text/x-python",
   "name": "python",
   "nbconvert_exporter": "python",
   "pygments_lexer": "ipython3",
   "version": "3.12.3"
  }
 },
 "nbformat": 4,
 "nbformat_minor": 2
}
