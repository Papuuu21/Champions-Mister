{
 "cells": [
  {
   "cell_type": "code",
   "execution_count": 1,
   "metadata": {},
   "outputs": [],
   "source": [
    "import pandas as pd\n",
    "import os\n",
    "from utils.generar_enfrent import generar_enfrentamientos\n",
    "from utils.vuelta_grupos import vuelta_gr\n",
    "from utils.df_enfrentamientos import df_ida_o_vuelta\n",
    "from utils.enfrentamientos_sinVS import df_partidos\n",
    "from utils.descomp_tupla_columnas import descomponer_tupla\n",
    "\n",
    " #* Ruta a la carpeta 'data'\n",
    "carpeta = 'data'"
   ]
  },
  {
   "cell_type": "code",
   "execution_count": 2,
   "metadata": {},
   "outputs": [],
   "source": [
    "def partidos_jornadas(df_partidos, num_jornada, col_local, col_visitante, col_rtdo_local, col_rtdo_visitante):\n",
    "    df_partidos_jornada = pd.DataFrame()\n",
    "    #* Aplicando la función a la columna 'datos' y creando nuevas columnas\n",
    "    df_partidos_jornada[[col_local, col_visitante]] = df_partidos[f'Jornada {num_jornada}'].apply(descomponer_tupla) #* Usamos la función apply() para aplicar una función a una columna de un dataframe\n",
    "    df_partidos_jornada[col_rtdo_visitante] = 0\n",
    "    df_partidos_jornada.insert(0, col_rtdo_local, 0)\n",
    "    \n",
    "    return df_partidos_jornada"
   ]
  },
  {
   "cell_type": "code",
   "execution_count": 3,
   "metadata": {},
   "outputs": [],
   "source": [
    "df_grupos = pd.read_excel('sorteo_grupos.xlsx')\n",
    "grupo_A = list(df_grupos['Grupo A'])\n",
    "grupo_B = list(df_grupos['Grupo B'])"
   ]
  },
  {
   "cell_type": "code",
   "execution_count": 4,
   "metadata": {},
   "outputs": [],
   "source": [
    " #* GRUPO A:\n",
    "ida_grA = generar_enfrentamientos(grupo_A) #* Generar partidos de ida\n",
    "vuelta_grA = vuelta_gr(ida_grA) #* Generar partidos de vuelta\n",
    "df_ida_grA = df_ida_o_vuelta(ida_grA)  #* Generar DF de los partidos de ida\n",
    "df_vuelta_grA = df_ida_o_vuelta(vuelta_grA, 6) #* El 6 indica el inicio de la jornada de los partidos de vuelta\n",
    "idx_grA = 'GRUPO A'\n",
    "calendario_grA = pd.concat([df_ida_grA, df_vuelta_grA], axis = 1) #* Crear dataframe con todos los partidos de ida y vuelta gr1\n",
    "calendario_grA['GRUPO'] = idx_grA\n",
    "calendario_grA.set_index('GRUPO', drop=True, append=False, inplace=True) #* Cambiar el indice del DF para distinguir los grupos al juntarlos\n",
    "#calendario_grA #* Usar para VISUALIZAR LOS PARTIDOS DE IDA Y VUELTA DEL GRUPO 1\n",
    "\n",
    "#* GRUPO B:\n",
    "ida_grB = generar_enfrentamientos(grupo_B) #* Generar partidos de ida\n",
    "vuelta_grB = vuelta_gr(ida_grB) #* Generar partidos de vuelta\n",
    "df_ida_grB = df_ida_o_vuelta(ida_grB)  #* Generar DF de los partidos de ida\n",
    "df_vuelta_grB = df_ida_o_vuelta(vuelta_grB, 6) #* El 6 indica el inicio de la jornada de los partidos de vuelta\n",
    "idx_grB = 'GRUPO B'\n",
    "calendario_grB = pd.concat([df_ida_grB, df_vuelta_grB], axis = 1) #* Crear dataframe con todos los partidos de ida y vuelta gr2\n",
    "calendario_grB['GRUPO'] = idx_grB\n",
    "calendario_grB.set_index('GRUPO', drop=True, append=False, inplace=True) #* Cambiar el indice del DF para distinguir los grupos al juntarlos\n",
    "#calendario_grB #* Usar para VISUALIZAR LOS PARTIDOS DE IDA Y VUELTA DEL GRUPO 2"
   ]
  },
  {
   "cell_type": "code",
   "execution_count": 5,
   "metadata": {},
   "outputs": [],
   "source": [
    " #! JORNADAS DE IFA SIN FORMATO PARA GENERAR  CADA JORNADA\n",
    "ida_gA = df_partidos(ida_grA)\n",
    "ida_gB = df_partidos(ida_grB)"
   ]
  },
  {
   "cell_type": "markdown",
   "metadata": {},
   "source": [
    "## JORNADA ACTUAL -> CAMBIAR DESDE AQUI LO ANTERIOR NO SE MODIFICA:"
   ]
  },
  {
   "cell_type": "code",
   "execution_count": 6,
   "metadata": {},
   "outputs": [
    {
     "data": {
      "text/html": [
       "<div>\n",
       "<style scoped>\n",
       "    .dataframe tbody tr th:only-of-type {\n",
       "        vertical-align: middle;\n",
       "    }\n",
       "\n",
       "    .dataframe tbody tr th {\n",
       "        vertical-align: top;\n",
       "    }\n",
       "\n",
       "    .dataframe thead th {\n",
       "        text-align: right;\n",
       "    }\n",
       "</style>\n",
       "<table border=\"1\" class=\"dataframe\">\n",
       "  <thead>\n",
       "    <tr style=\"text-align: right;\">\n",
       "      <th></th>\n",
       "      <th>RTDO L</th>\n",
       "      <th>LOCAL</th>\n",
       "      <th>VISITANTE</th>\n",
       "      <th>RTDO V</th>\n",
       "      <th>Jornada</th>\n",
       "      <th>RTDO L.1</th>\n",
       "      <th>LOCAL.1</th>\n",
       "      <th>VISITANTE.1</th>\n",
       "      <th>RTDO V.1</th>\n",
       "    </tr>\n",
       "  </thead>\n",
       "  <tbody>\n",
       "    <tr>\n",
       "      <th>0</th>\n",
       "      <td>0</td>\n",
       "      <td>Palop</td>\n",
       "      <td>Tony</td>\n",
       "      <td>0</td>\n",
       "      <td>JOR. 4</td>\n",
       "      <td>0</td>\n",
       "      <td>Diego</td>\n",
       "      <td>Papu</td>\n",
       "      <td>0</td>\n",
       "    </tr>\n",
       "    <tr>\n",
       "      <th>1</th>\n",
       "      <td>0</td>\n",
       "      <td>Ruso</td>\n",
       "      <td>Kero</td>\n",
       "      <td>0</td>\n",
       "      <td>JOR. 4</td>\n",
       "      <td>0</td>\n",
       "      <td>Gonzo</td>\n",
       "      <td>Kike</td>\n",
       "      <td>0</td>\n",
       "    </tr>\n",
       "    <tr>\n",
       "      <th>2</th>\n",
       "      <td>0</td>\n",
       "      <td>Fale</td>\n",
       "      <td>Lope</td>\n",
       "      <td>0</td>\n",
       "      <td>JOR. 4</td>\n",
       "      <td>0</td>\n",
       "      <td>Armada</td>\n",
       "      <td>Coquina</td>\n",
       "      <td>0</td>\n",
       "    </tr>\n",
       "  </tbody>\n",
       "</table>\n",
       "</div>"
      ],
      "text/plain": [
       "   RTDO L  LOCAL VISITANTE  RTDO V Jornada  RTDO L.1 LOCAL.1 VISITANTE.1  \\\n",
       "0       0  Palop      Tony       0  JOR. 4         0   Diego        Papu   \n",
       "1       0   Ruso      Kero       0  JOR. 4         0   Gonzo        Kike   \n",
       "2       0   Fale      Lope       0  JOR. 4         0  Armada     Coquina   \n",
       "\n",
       "   RTDO V.1  \n",
       "0         0  \n",
       "1         0  \n",
       "2         0  "
      ]
     },
     "execution_count": 6,
     "metadata": {},
     "output_type": "execute_result"
    }
   ],
   "source": [
    " #! PARTIDOS DE LA JORNADA 4:\n",
    "j4_gA = ida_gA\n",
    "j4_gB = ida_gB['Jornada 4']\n",
    "grA_jor4 = partidos_jornadas(ida_gA, 4, 'LOCAL', 'VISITANTE', 'RTDO L', 'RTDO V')\n",
    "grB_jor4 = partidos_jornadas(ida_gB, 4, 'LOCAL.1', 'VISITANTE.1', 'RTDO L.1', 'RTDO V.1')\n",
    "vacio = pd.DataFrame()\n",
    "vacio['Jornada'] = ['JOR. 4'] * 3\n",
    "df_jornada_actual4  = pd.concat([grA_jor4, vacio, grB_jor4], axis = 1)\n",
    "df_jornada_actual4"
   ]
  },
  {
   "cell_type": "code",
   "execution_count": 7,
   "metadata": {},
   "outputs": [],
   "source": [
    "ruta_archivo = os.path.join(carpeta, 'jornada_4_inicial.xlsx')\n",
    "df_jornada_actual4.to_excel(ruta_archivo, index=False)"
   ]
  }
 ],
 "metadata": {
  "kernelspec": {
   "display_name": "venv",
   "language": "python",
   "name": "python3"
  },
  "language_info": {
   "codemirror_mode": {
    "name": "ipython",
    "version": 3
   },
   "file_extension": ".py",
   "mimetype": "text/x-python",
   "name": "python",
   "nbconvert_exporter": "python",
   "pygments_lexer": "ipython3",
   "version": "3.12.3"
  }
 },
 "nbformat": 4,
 "nbformat_minor": 2
}
